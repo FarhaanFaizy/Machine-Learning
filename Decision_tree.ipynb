{
 "cells": [
  {
   "cell_type": "code",
   "execution_count": 15,
   "id": "9a9311aa",
   "metadata": {},
   "outputs": [],
   "source": [
    "import numpy as np\n",
    "import pandas as pd\n",
    "import math as m"
   ]
  },
  {
   "cell_type": "code",
   "execution_count": 19,
   "id": "14e3d951",
   "metadata": {},
   "outputs": [],
   "source": [
    "data=pd.read_csv('play_tennis.csv')\n",
    "data_main=data\n",
    "del data['day']"
   ]
  },
  {
   "cell_type": "code",
   "execution_count": 31,
   "id": "91ee7fdc",
   "metadata": {},
   "outputs": [],
   "source": [
    "# f={}\n",
    "# for i in dict(data).items():\n",
    "#     f[i[0]]=list(i[1].values)\n",
    "# print(f)"
   ]
  },
  {
   "cell_type": "code",
   "execution_count": 60,
   "id": "a734cb1e",
   "metadata": {},
   "outputs": [
    {
     "name": "stdout",
     "output_type": "stream",
     "text": [
      "14\n",
      "0.0\n",
      "0.34676806944809596\n",
      "0.34676806944809596\n",
      "14\n",
      "0.23179374984546652\n",
      "0.2857142857142857\n",
      "0.3935553574519241\n",
      "14\n",
      "0.29583638929116374\n",
      "0.4926140680171258\n",
      "14\n",
      "0.46358749969093305\n",
      "0.42857142857142855\n"
     ]
    }
   ],
   "source": [
    "def cal_entropy(df):\n",
    "    cols=df.columns\n",
    "    x=list(df.iloc[:,0].values)\n",
    "    lenx=len(x)\n",
    "    x=list(set(x))\n",
    "    print(lenx)\n",
    "    s=0\n",
    "    for i in x:\n",
    "        dfsub=df[df[cols[0]]==i]\n",
    "        p=dfsub[dfsub[cols[-1]]=='Yes'].shape[0]/dfsub.shape[0]\n",
    "        q=dfsub[dfsub[cols[-1]]=='No'].shape[0]/dfsub.shape[0]\n",
    "        if p!=0 and q!=0:\n",
    "            Ssub=(-p)*m.log2(p)-(q*m.log2(q))\n",
    "        elif p==0 or q==0 :\n",
    "            Ssub=0\n",
    "        Ssub=Ssub*dfsub.shape[0]/lenx\n",
    "        print(Ssub)\n",
    "def cal_mainentropy(df):\n",
    "    cols=df.columns\n",
    "    x=list(df[cols[-1]].values)\n",
    "    p=x.count('Yes')/len(x)\n",
    "    q=x.count('No')/len(x)\n",
    "    S=(-p)*m.log2(p)-(q*m.log2(q))\n",
    "    for i in range(len(cols)-1):\n",
    "        s=cal_entropy(df[[cols[i],cols[-1]]])\n",
    "        \n",
    "cal_mainentropy(data)"
   ]
  },
  {
   "cell_type": "code",
   "execution_count": 47,
   "id": "fa07b869",
   "metadata": {},
   "outputs": [
    {
     "data": {
      "text/plain": [
       "0.9709505944546686"
      ]
     },
     "execution_count": 47,
     "metadata": {},
     "output_type": "execute_result"
    }
   ],
   "source": [
    "(-0.6)*m.log2(0.6)-(0.4*m.log2(0.4))"
   ]
  }
 ],
 "metadata": {
  "kernelspec": {
   "display_name": "Python 3 (ipykernel)",
   "language": "python",
   "name": "python3"
  },
  "language_info": {
   "codemirror_mode": {
    "name": "ipython",
    "version": 3
   },
   "file_extension": ".py",
   "mimetype": "text/x-python",
   "name": "python",
   "nbconvert_exporter": "python",
   "pygments_lexer": "ipython3",
   "version": "3.11.3"
  }
 },
 "nbformat": 4,
 "nbformat_minor": 5
}
