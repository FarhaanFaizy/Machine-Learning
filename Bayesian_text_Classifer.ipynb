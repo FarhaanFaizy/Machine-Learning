{
 "cells": [
  {
   "cell_type": "code",
   "execution_count": 2,
   "id": "8b5f0fad",
   "metadata": {},
   "outputs": [],
   "source": [
    "import numpy as np\n",
    "import pandas as pd"
   ]
  },
  {
   "cell_type": "code",
   "execution_count": 80,
   "id": "2f91e286",
   "metadata": {},
   "outputs": [
    {
     "name": "stdout",
     "output_type": "stream",
     "text": [
      "Enter % of dataset to train :60\n",
      "confusion matrix is: [[4, 1], [0, 3]]\n",
      "accuracy is 87.5\n"
     ]
    }
   ],
   "source": [
    "data=pd.read_csv('text_classification.csv',header=None)\n",
    "n=int(input(\"Enter % of dataset to train :\"))\n",
    "split_index = int((n/100) * len(data))\n",
    "df1 = data.iloc[:split_index]\n",
    "df2 = data.iloc[split_index:]\n",
    "df1ans=list(df1.iloc[:,1].values)\n",
    "x=list(df1.iloc[:,0])\n",
    "for i in range(len(x)):\n",
    "    x[i]=x[i].split()\n",
    "terms=list(set(sum(x,[])))\n",
    "mat = np.zeros((len(x),len(terms)))\n",
    "for i in range(len(terms)):\n",
    "    for j in range(len(x)):\n",
    "        if terms[i] in x[j]:\n",
    "            mat[j][i] += 1\n",
    "final1=[1]*len(terms)\n",
    "final2=[1]*len(terms)\n",
    "for i in range(len(df1ans)):\n",
    "    if df1ans[i]=='pos':\n",
    "        for j in range(len(mat[i])):\n",
    "            final1[j]+=mat[i][j]\n",
    "    elif df1ans[i]=='neg':\n",
    "        for j in range(len(mat[i])):\n",
    "            final2[j]+=mat[i][j]\n",
    "p=0\n",
    "for i in df1ans:\n",
    "    if i=='pos':\n",
    "        p+=1\n",
    "p=p/len(df1ans)\n",
    "n=1-p\n",
    "final1=np.array(final1)/(len(terms)+split_index)\n",
    "final2=np.array(final2)/(len(terms)+split_index)\n",
    "df2ans=list(df2.iloc[:,1].values)\n",
    "z=list(df2.iloc[:,0])\n",
    "op=[]\n",
    "for i in range(len(z)):\n",
    "    z[i]=z[i].split()\n",
    "    pos_prob=p\n",
    "    neg_prob=n\n",
    "    for j in z[i]:\n",
    "        for k in terms:\n",
    "            if j==k:\n",
    "                pos_prob*=final1[terms.index(k)]\n",
    "                neg_prob*=final2[terms.index(k)]\n",
    "    if pos_prob>=neg_prob:\n",
    "            op.append('pos')\n",
    "    else:\n",
    "            op.append('neg')\n",
    "conf_mat=[0]*4\n",
    "for k in range(len(op)):\n",
    "    i=op[k]\n",
    "    j=df2ans[k]\n",
    "    if i==j and i=='pos':\n",
    "        conf_mat[0]+=1\n",
    "    elif i==j and i=='neg':\n",
    "        conf_mat[3]+=1\n",
    "    elif i!=j and i=='pos':\n",
    "        conf_mat[1]+=1\n",
    "    else:\n",
    "        conf_mat[2]+=1\n",
    "confusion_matrix=[list(i) for i in np.array(conf_mat).reshape(2,2)]\n",
    "print(\"confusion matrix is:\",confusion_matrix)\n",
    "accuracy=(conf_mat[0]+conf_mat[3])*100/len(op)\n",
    "print(\"accuracy is\",accuracy)"
   ]
  }
 ],
 "metadata": {
  "kernelspec": {
   "display_name": "Python 3 (ipykernel)",
   "language": "python",
   "name": "python3"
  },
  "language_info": {
   "codemirror_mode": {
    "name": "ipython",
    "version": 3
   },
   "file_extension": ".py",
   "mimetype": "text/x-python",
   "name": "python",
   "nbconvert_exporter": "python",
   "pygments_lexer": "ipython3",
   "version": "3.11.3"
  }
 },
 "nbformat": 4,
 "nbformat_minor": 5
}
