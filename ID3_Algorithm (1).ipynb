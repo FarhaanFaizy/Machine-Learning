{
 "cells": [
  {
   "cell_type": "code",
   "execution_count": 5,
   "id": "fe039448",
   "metadata": {},
   "outputs": [],
   "source": [
    "import numpy as np\n",
    "import pandas as pd\n",
    "import math"
   ]
  },
  {
   "cell_type": "code",
   "execution_count": 3,
   "id": "0e379f0b",
   "metadata": {},
   "outputs": [
    {
     "data": {
      "text/html": [
       "<div>\n",
       "<style scoped>\n",
       "    .dataframe tbody tr th:only-of-type {\n",
       "        vertical-align: middle;\n",
       "    }\n",
       "\n",
       "    .dataframe tbody tr th {\n",
       "        vertical-align: top;\n",
       "    }\n",
       "\n",
       "    .dataframe thead th {\n",
       "        text-align: right;\n",
       "    }\n",
       "</style>\n",
       "<table border=\"1\" class=\"dataframe\">\n",
       "  <thead>\n",
       "    <tr style=\"text-align: right;\">\n",
       "      <th></th>\n",
       "      <th>day</th>\n",
       "      <th>outlook</th>\n",
       "      <th>temp</th>\n",
       "      <th>humidity</th>\n",
       "      <th>wind</th>\n",
       "      <th>play</th>\n",
       "    </tr>\n",
       "  </thead>\n",
       "  <tbody>\n",
       "    <tr>\n",
       "      <th>0</th>\n",
       "      <td>D1</td>\n",
       "      <td>Sunny</td>\n",
       "      <td>Hot</td>\n",
       "      <td>High</td>\n",
       "      <td>Weak</td>\n",
       "      <td>No</td>\n",
       "    </tr>\n",
       "    <tr>\n",
       "      <th>1</th>\n",
       "      <td>D2</td>\n",
       "      <td>Sunny</td>\n",
       "      <td>Hot</td>\n",
       "      <td>High</td>\n",
       "      <td>Strong</td>\n",
       "      <td>No</td>\n",
       "    </tr>\n",
       "    <tr>\n",
       "      <th>2</th>\n",
       "      <td>D3</td>\n",
       "      <td>Overcast</td>\n",
       "      <td>Hot</td>\n",
       "      <td>High</td>\n",
       "      <td>Weak</td>\n",
       "      <td>Yes</td>\n",
       "    </tr>\n",
       "    <tr>\n",
       "      <th>3</th>\n",
       "      <td>D4</td>\n",
       "      <td>Rain</td>\n",
       "      <td>Mild</td>\n",
       "      <td>High</td>\n",
       "      <td>Weak</td>\n",
       "      <td>Yes</td>\n",
       "    </tr>\n",
       "    <tr>\n",
       "      <th>4</th>\n",
       "      <td>D5</td>\n",
       "      <td>Rain</td>\n",
       "      <td>Cool</td>\n",
       "      <td>Normal</td>\n",
       "      <td>Weak</td>\n",
       "      <td>Yes</td>\n",
       "    </tr>\n",
       "  </tbody>\n",
       "</table>\n",
       "</div>"
      ],
      "text/plain": [
       "  day   outlook  temp humidity    wind play\n",
       "0  D1     Sunny   Hot     High    Weak   No\n",
       "1  D2     Sunny   Hot     High  Strong   No\n",
       "2  D3  Overcast   Hot     High    Weak  Yes\n",
       "3  D4      Rain  Mild     High    Weak  Yes\n",
       "4  D5      Rain  Cool   Normal    Weak  Yes"
      ]
     },
     "execution_count": 3,
     "metadata": {},
     "output_type": "execute_result"
    }
   ],
   "source": [
    "df = pd.read_csv('play_tennis.csv')\n",
    "df.head()"
   ]
  },
  {
   "cell_type": "code",
   "execution_count": 19,
   "id": "3017b25a",
   "metadata": {},
   "outputs": [],
   "source": [
    "data = df\n",
    "del df['day']"
   ]
  },
  {
   "cell_type": "code",
   "execution_count": 20,
   "id": "97bfbb01",
   "metadata": {},
   "outputs": [],
   "source": [
    "decision_tree = {}\n",
    "n = len(df)\n",
    "def calculate_overral_entropy(label):\n",
    "    entropy = 0\n",
    "    yes = label.count('Yes')\n",
    "    no = label.count('No')\n",
    "    if yes > 0:\n",
    "        entropy += -(yes/(yes+no)*math.log2(yes/(yes+no)))\n",
    "    if no > 0:\n",
    "        entropy += -(no/(yes+no)*math.log2(no/(yes+no)))\n",
    "    return entropy"
   ]
  },
  {
   "cell_type": "code",
   "execution_count": 53,
   "id": "f3dbb1a0",
   "metadata": {},
   "outputs": [],
   "source": [
    "def calculate_entropy(df,attribute,label):\n",
    "    df_len = len(df)\n",
    "    entropy = 0\n",
    "    custom_list = list(set(list(df[attribute])))\n",
    "    custom_list_len = len(custom_list)\n",
    "    for i in range(custom_list_len):\n",
    "        internal_entropy = 0\n",
    "        yes = len(df[(df[attribute] == custom_list[i]) & (df[label] == 'Yes')])\n",
    "        no = len(df[(df[attribute] == custom_list[i]) & (df[label] == 'No')])\n",
    "        if yes > 0:\n",
    "            internal_entropy += -(yes/(yes+no)*math.log2(yes/(yes+no)))\n",
    "        if no > 0:\n",
    "            internal_entropy += -(no/(yes+no)*math.log2(no/(yes+no)))\n",
    "        if internal_entropy > 0:\n",
    "            entropy += (yes+no)/df_len*internal_entropy\n",
    "    return calculate_overral_entropy(list(df[label])) - entropy"
   ]
  },
  {
   "cell_type": "code",
   "execution_count": 54,
   "id": "7f435640",
   "metadata": {},
   "outputs": [
    {
     "data": {
      "text/plain": [
       "0.24674981977443933"
      ]
     },
     "execution_count": 54,
     "metadata": {},
     "output_type": "execute_result"
    }
   ],
   "source": [
    "calculate_entropy(df,'outlook','play')"
   ]
  },
  {
   "cell_type": "code",
   "execution_count": 48,
   "id": "1079fa93",
   "metadata": {},
   "outputs": [
    {
     "data": {
      "text/plain": [
       "0.24674981977443933"
      ]
     },
     "execution_count": 48,
     "metadata": {},
     "output_type": "execute_result"
    }
   ],
   "source": [
    "0.9402859586706311 - 0.6935361388961918"
   ]
  }
 ],
 "metadata": {
  "kernelspec": {
   "display_name": "Python 3 (ipykernel)",
   "language": "python",
   "name": "python3"
  },
  "language_info": {
   "codemirror_mode": {
    "name": "ipython",
    "version": 3
   },
   "file_extension": ".py",
   "mimetype": "text/x-python",
   "name": "python",
   "nbconvert_exporter": "python",
   "pygments_lexer": "ipython3",
   "version": "3.11.3"
  }
 },
 "nbformat": 4,
 "nbformat_minor": 5
}
