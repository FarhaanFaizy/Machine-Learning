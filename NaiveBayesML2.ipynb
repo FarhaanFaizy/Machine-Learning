{
 "cells": [
  {
   "cell_type": "code",
   "execution_count": 1,
   "id": "62668a9e",
   "metadata": {},
   "outputs": [
    {
     "name": "stdout",
     "output_type": "stream",
     "text": [
      "Enter % of dataset to train :80\n",
      "Accuracy is: 66.66666666666666\n"
     ]
    }
   ],
   "source": [
    "import numpy as np\n",
    "import pandas as pd\n",
    "def make_table(df,f):\n",
    "    v=list(set(df.iloc[:,0]))\n",
    "    k=[]\n",
    "    for i in v:\n",
    "        k.append([i,0,0])\n",
    "    for i in range(df.shape[0]):\n",
    "        x=np.array(df.iloc[i])\n",
    "        c=0\n",
    "        for j in list(zip(*k))[0]:\n",
    "            if x[0]==j:\n",
    "                if x[1]=='yes':\n",
    "                    k[c][1]+=1/f[0]\n",
    "                else:\n",
    "                    k[c][2]+=1/f[1]\n",
    "            c+=1\n",
    "    return k\n",
    "data=pd.read_csv(\"golf_df.csv\")\n",
    "n=int(input(\"Enter % of dataset to train :\"))\n",
    "split_index = int((n/100) * len(data))\n",
    "df1 = data.iloc[:split_index]\n",
    "df2 = data.iloc[split_index:]\n",
    "l=[]\n",
    "f=[0,0]\n",
    "for i in df1['Play']:\n",
    "    if i=='yes':\n",
    "        f[0]+=1\n",
    "    else:\n",
    "        f[1]+=1\n",
    "for i in range(df1.shape[1]-1):\n",
    "    df=df1.iloc[:,[i,-1]]\n",
    "    l.append(make_table(df,f))\n",
    "m=[]\n",
    "for i in l:\n",
    "    m.append(list(list(zip(*i))[0]))\n",
    "yes_p=f[0]/sum(f)\n",
    "no_p=1-yes_p\n",
    "op=[]\n",
    "for h in range(df2.shape[0]):\n",
    "    vals=list(np.array(df2.iloc[h]))\n",
    "    c=-1\n",
    "    p1=yes_p\n",
    "    p2=no_p\n",
    "    for i in range(len(vals[:-1])):\n",
    "        c+=1\n",
    "        for j in range(len(m[c])):\n",
    "            if m[c][j]==vals[i] :\n",
    "                p1*=l[i][j][1]\n",
    "                p2*=l[i][j][2]\n",
    "    if p1>=p2:\n",
    "        op.append('yes')\n",
    "    else:\n",
    "        op.append('no')\n",
    "tp=0\n",
    "tn=0\n",
    "fp=0\n",
    "fn=0\n",
    "ds=list(df2['Play'])\n",
    "for i in range(len(op)):\n",
    "    if op[i]==ds[i] :\n",
    "        if op[i]=='yes':\n",
    "            tp+=1\n",
    "        else:\n",
    "            tn+=1\n",
    "    elif op[i]=='yes' and ds[i]=='no':\n",
    "        fp+=1\n",
    "    else:\n",
    "        fn+=1\n",
    "acc=((tp+tn)/(tp+tn+fp+fn))*100\n",
    "print(\"Accuracy is:\",acc)"
   ]
  }
 ],
 "metadata": {
  "kernelspec": {
   "display_name": "Python 3 (ipykernel)",
   "language": "python",
   "name": "python3"
  },
  "language_info": {
   "codemirror_mode": {
    "name": "ipython",
    "version": 3
   },
   "file_extension": ".py",
   "mimetype": "text/x-python",
   "name": "python",
   "nbconvert_exporter": "python",
   "pygments_lexer": "ipython3",
   "version": "3.11.3"
  }
 },
 "nbformat": 4,
 "nbformat_minor": 5
}
