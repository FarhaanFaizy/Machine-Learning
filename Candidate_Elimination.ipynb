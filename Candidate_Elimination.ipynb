{
 "cells": [
  {
   "cell_type": "code",
   "execution_count": 22,
   "id": "4b46e758",
   "metadata": {},
   "outputs": [],
   "source": [
    "import numpy as np\n",
    "import pandas as pd"
   ]
  },
  {
   "cell_type": "code",
   "execution_count": 49,
   "id": "b5ff13da",
   "metadata": {},
   "outputs": [],
   "source": [
    "df=pd.read_csv('Enjoy_Sport.csv')\n",
    "df.insert(0, 'S.no', [1,2,3,4])"
   ]
  },
  {
   "cell_type": "code",
   "execution_count": 50,
   "id": "19950001",
   "metadata": {},
   "outputs": [],
   "source": [
    "def generalize(s,i):\n",
    "    if s[0] == None:\n",
    "        s = list(df.iloc[0,1:-1])\n",
    "        return s\n",
    "    if df.iloc[i,-1] == 'yes':\n",
    "        for j in range(len(s)):\n",
    "            if s[j] != df.iloc[i,j+1]:\n",
    "                s[j] = '?'\n",
    "    return s"
   ]
  },
  {
   "cell_type": "code",
   "execution_count": 51,
   "id": "6c87c932",
   "metadata": {},
   "outputs": [],
   "source": [
    "def specialize(s,gen,index):\n",
    "    print(s)\n",
    "    for i in range(len(s)):\n",
    "        if s[i] != df.iloc[index,i+1] and s[i] != '?':\n",
    "            g = ['?']*6\n",
    "            g[i] = s[i]\n",
    "            gen.append(g)\n",
    "    return gen"
   ]
  },
  {
   "cell_type": "code",
   "execution_count": 52,
   "id": "e9645abe",
   "metadata": {},
   "outputs": [
    {
     "name": "stdout",
     "output_type": "stream",
     "text": [
      "['Sunny', 'Warm', '?', 'strong', 'warm', 'same']\n"
     ]
    }
   ],
   "source": [
    "s = [None]*6\n",
    "gen = []\n",
    "all_gen = []\n",
    "for i in range(len(df)):\n",
    "    if df.iloc[i,-1] == 'yes':\n",
    "        s = generalize(s,i)\n",
    "    else:\n",
    "        gen = specialize(s,gen,i)\n",
    "        all_gen.append(gen)"
   ]
  },
  {
   "cell_type": "code",
   "execution_count": 53,
   "id": "df6a47f6",
   "metadata": {},
   "outputs": [
    {
     "name": "stdout",
     "output_type": "stream",
     "text": [
      "[['Sunny', '?', '?', '?', '?', '?'], ['?', 'Warm', '?', '?', '?', '?']]\n",
      "['Sunny', 'Warm', '?', 'strong', '?', '?']\n"
     ]
    }
   ],
   "source": [
    "gen = all_gen[0]\n",
    "final_gen = []\n",
    "for i in gen:\n",
    "    for j,k in zip(range(len(i)),range(len(s))):\n",
    "        if i[j] != '?':\n",
    "            if s[k] == i[j]:\n",
    "                final_gen.append(i)\n",
    "print(final_gen)\n",
    "print(s)"
   ]
  }
 ],
 "metadata": {
  "kernelspec": {
   "display_name": "Python 3 (ipykernel)",
   "language": "python",
   "name": "python3"
  },
  "language_info": {
   "codemirror_mode": {
    "name": "ipython",
    "version": 3
   },
   "file_extension": ".py",
   "mimetype": "text/x-python",
   "name": "python",
   "nbconvert_exporter": "python",
   "pygments_lexer": "ipython3",
   "version": "3.11.3"
  }
 },
 "nbformat": 4,
 "nbformat_minor": 5
}
